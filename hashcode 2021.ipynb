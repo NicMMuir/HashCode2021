{
 "cells": [
  {
   "cell_type": "code",
   "execution_count": 1,
   "id": "italic-spiritual",
   "metadata": {},
   "outputs": [
    {
     "ename": "SyntaxError",
     "evalue": "invalid syntax (<ipython-input-1-920650030aec>, line 34)",
     "output_type": "error",
     "traceback": [
      "\u001b[1;36m  File \u001b[1;32m\"<ipython-input-1-920650030aec>\"\u001b[1;36m, line \u001b[1;32m34\u001b[0m\n\u001b[1;33m    print(newStreet)\u001b[0m\n\u001b[1;37m    ^\u001b[0m\n\u001b[1;31mSyntaxError\u001b[0m\u001b[1;31m:\u001b[0m invalid syntax\n"
     ]
    }
   ],
   "source": [
    "f = open(\"a.txt\", \"r\")\n",
    "\n",
    "line1 = f.readline()\n",
    "list1 = line1.split()\n",
    "D = list1[0] # duration \n",
    "I = list1[1] #num intersections\n",
    "S = list1[2] # num streets\n",
    "V = list1[3] # num cars\n",
    "F = list1[4] # bonus points before time D\n",
    "\n",
    "\n",
    "class Car:\n",
    "    def __init__(self, P, route):\n",
    "        self.P = P\n",
    "        self.route = route\n",
    "        \n",
    "class Street:\n",
    "    def __init__(self, B, E, name, L):\n",
    "        self.B = B\n",
    "        self.E = E\n",
    "        self.name = name\n",
    "        self.L = L\n",
    "        \n",
    "    def __str__(self):\n",
    "        return f\"B: {self.B} E: {self.E} name: {self.name}, L: {self.L}\"\n",
    "   \n",
    "#all_streets = []\n",
    "\n",
    "\n",
    "\n",
    "for i in range(1,int(S)):\n",
    "    street = f.readline().split()\n",
    "    newStreet = Street(street[0], street[1], street[2], street[3]\n",
    "    print(newStreet)\n",
    "    all_streets.append(newStreet)\n",
    "    \n",
    "for i in range(0,int(V)):\n",
    "    car = f.readline().split()\n",
    "    print(car)"
   ]
  },
  {
   "cell_type": "code",
   "execution_count": null,
   "id": "measured-lotus",
   "metadata": {},
   "outputs": [],
   "source": []
  }
 ],
 "metadata": {
  "kernelspec": {
   "display_name": "Python 3",
   "language": "python",
   "name": "python3"
  },
  "language_info": {
   "codemirror_mode": {
    "name": "ipython",
    "version": 3
   },
   "file_extension": ".py",
   "mimetype": "text/x-python",
   "name": "python",
   "nbconvert_exporter": "python",
   "pygments_lexer": "ipython3",
   "version": "3.9.2"
  }
 },
 "nbformat": 4,
 "nbformat_minor": 5
}
