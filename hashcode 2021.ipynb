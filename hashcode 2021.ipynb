{
 "cells": [
  {
   "cell_type": "code",
   "execution_count": 32,
   "id": "political-eight",
   "metadata": {},
   "outputs": [],
   "source": [
    "#import numpy as np"
   ]
  },
  {
   "cell_type": "code",
   "execution_count": 33,
   "id": "flush-replica",
   "metadata": {},
   "outputs": [],
   "source": [
    "input_name = \"d\""
   ]
  },
  {
   "cell_type": "code",
   "execution_count": 34,
   "id": "buried-flood",
   "metadata": {},
   "outputs": [
    {
     "name": "stdout",
     "output_type": "stream",
     "text": [
      "Duration 8071 Num Intersections 8000 Num Streets 95928 Num Cars 1000 Bonus 1000\n"
     ]
    }
   ],
   "source": [
    "f = open(input_name + \".txt\", \"r\")\n",
    "\n",
    "line1 = f.readline()\n",
    "list1 = line1.split()\n",
    "D = list1[0] # duration \n",
    "I = list1[1] #num intersections\n",
    "S = list1[2] # num streets\n",
    "V = list1[3] # num cars\n",
    "F = list1[4] # bonus points before time D\n",
    "\n",
    "print(f\"Duration {D} Num Intersections {I} Num Streets {S} Num Cars {V} Bonus {F}\")\n",
    "\n",
    "class Car:\n",
    "    def __init__(self, P, route):\n",
    "        self.P = P\n",
    "        self.route = route\n",
    "        \n",
    "    def __str__(self):\n",
    "        return f\"P: {self.P} route: {self.route}\"\n",
    "    \n",
    "class Street:\n",
    "    def __init__(self, B, E, name, L):\n",
    "        self.B = B\n",
    "        self.E = E\n",
    "        self.name = name\n",
    "        self.L = L\n",
    "        self.count = 0\n",
    "        \n",
    "    def __str__(self):\n",
    "        return f\"B: {self.B} E: {self.E} name: {self.name}, L: {self.L}\"\n",
    "    \n",
    "all_streets = []\n",
    "all_street_names = []\n",
    "all_street_scores = []\n",
    "all_street_ends = []\n",
    "all_cars = []\n",
    "\n",
    "\n",
    "for i in range(0,int(S)):\n",
    "    street = f.readline().split()\n",
    "    newStreet = Street(street[0],street[1],street[2],street[3])\n",
    "    #print(newStreet)\n",
    "    all_streets.append(newStreet)\n",
    "    all_street_names.append(street[2])\n",
    "    all_street_ends.append(street[1])\n",
    "    \n",
    "for i in range(0, int(S)):\n",
    "    all_street_scores.append(0)\n",
    "\n",
    "for i in range(0,int(V)):\n",
    "    cars = f.readline().split()\n",
    "    route = []\n",
    "    for j in range(int(cars[0])):\n",
    "        route.append(cars[j+1])\n",
    "    car = Car(cars[0], route)\n",
    "   #print(car)\n",
    "    all_cars.append(car)\n",
    "\n",
    "f.close()"
   ]
  },
  {
   "cell_type": "code",
   "execution_count": 35,
   "id": "palestinian-registration",
   "metadata": {},
   "outputs": [],
   "source": [
    "#find busiest street"
   ]
  },
  {
   "cell_type": "code",
   "execution_count": 36,
   "id": "improved-remedy",
   "metadata": {
    "scrolled": true
   },
   "outputs": [
    {
     "ename": "KeyboardInterrupt",
     "evalue": "",
     "output_type": "error",
     "traceback": [
      "\u001b[1;31m---------------------------------------------------------------------------\u001b[0m",
      "\u001b[1;31mKeyboardInterrupt\u001b[0m                         Traceback (most recent call last)",
      "\u001b[1;32m<ipython-input-36-053b4a22b656>\u001b[0m in \u001b[0;36m<module>\u001b[1;34m\u001b[0m\n\u001b[0;32m      1\u001b[0m \u001b[1;32mfor\u001b[0m \u001b[0mcar\u001b[0m \u001b[1;32min\u001b[0m \u001b[0mall_cars\u001b[0m\u001b[1;33m:\u001b[0m\u001b[1;33m\u001b[0m\u001b[1;33m\u001b[0m\u001b[0m\n\u001b[0;32m      2\u001b[0m     \u001b[1;32mfor\u001b[0m \u001b[0mstreet\u001b[0m \u001b[1;32min\u001b[0m \u001b[0mcar\u001b[0m\u001b[1;33m.\u001b[0m\u001b[0mroute\u001b[0m\u001b[1;33m:\u001b[0m\u001b[1;33m\u001b[0m\u001b[1;33m\u001b[0m\u001b[0m\n\u001b[1;32m----> 3\u001b[1;33m         \u001b[0mindex\u001b[0m \u001b[1;33m=\u001b[0m \u001b[0mall_street_names\u001b[0m\u001b[1;33m.\u001b[0m\u001b[0mindex\u001b[0m\u001b[1;33m(\u001b[0m\u001b[0mstreet\u001b[0m\u001b[1;33m)\u001b[0m\u001b[1;33m\u001b[0m\u001b[1;33m\u001b[0m\u001b[0m\n\u001b[0m\u001b[0;32m      4\u001b[0m         \u001b[0mall_street_scores\u001b[0m\u001b[1;33m[\u001b[0m\u001b[0mindex\u001b[0m\u001b[1;33m]\u001b[0m \u001b[1;33m+=\u001b[0m \u001b[1;36m1\u001b[0m\u001b[1;33m\u001b[0m\u001b[1;33m\u001b[0m\u001b[0m\n\u001b[0;32m      5\u001b[0m \u001b[1;33m\u001b[0m\u001b[0m\n",
      "\u001b[1;31mKeyboardInterrupt\u001b[0m: "
     ]
    }
   ],
   "source": [
    "for car in all_cars:\n",
    "    for street in car.route:\n",
    "        index = all_street_names.index(street)\n",
    "        all_street_scores[index] += 1\n",
    "            \n",
    "#i = 0    \n",
    "#for street in all_street_names:\n",
    "#    print(f\"{street} score: {all_street_scores[i]} ends {all_street_ends[i]}\")\n",
    "#    i += 1\n",
    "        "
   ]
  },
  {
   "cell_type": "code",
   "execution_count": null,
   "id": "declared-integer",
   "metadata": {},
   "outputs": [],
   "source": [
    "f = open(input_name + \".out\", \"w\")\n",
    "\n",
    "f.write(I + \"\\n\")\n",
    "intersections = []\n",
    "for i in range(0,int(I)):\n",
    "    intersections.append(i)\n",
    "    \n",
    "subm = []\n",
    "for i in range(0, int(I)):\n",
    "    subm.append([])\n",
    "    \n",
    "#print(subm)\n",
    "for street in all_streets:\n",
    "    index = intersections.index(int(street.E))\n",
    "    street_index = all_street_names.index(street.name)\n",
    "    subm[index].append([street.name, all_street_scores[street_index]])\n",
    "#print(subm)\n",
    "\n",
    "__id = 0\n",
    "for i in subm:\n",
    "    f.write(str(__id) + \"\\n\")\n",
    "    __id += 1\n",
    "   # print(i[0])\n",
    "    if len(i) > 0 :\n",
    "        f.write(str(len(i)) + \"\\n\")\n",
    "        for j in i:\n",
    "            #print(f\"id:{__id}\")\n",
    "            #print(j)\n",
    "            if j[1] > 0:\n",
    "                f.write(str(j[0]) + \" \" + str(j[1]) + \"\\n\")\n",
    "#__id = 0\n",
    "#for intersect in intersections:\n",
    " #   f.write(str(__id))\n",
    "  #  __id += 1\n",
    "   # f.write(\"\\n\")\n",
    "    #f.write(str(len(intersect)) + \"\\n\")\n",
    "    #for inc in intersect:\n",
    "     #   f.write(inc + \" 1\\n\")\n",
    "    \n",
    "f.close()"
   ]
  },
  {
   "cell_type": "code",
   "execution_count": null,
   "id": "involved-project",
   "metadata": {},
   "outputs": [],
   "source": [
    "# open file for viewing"
   ]
  },
  {
   "cell_type": "code",
   "execution_count": null,
   "id": "missing-alpha",
   "metadata": {},
   "outputs": [],
   "source": [
    "#f = open(input_name+\".out\", \"r\")\n",
    "\n",
    "#for s in f:\n",
    "    #print(s)\n",
    "    \n",
    "#f.close()"
   ]
  },
  {
   "cell_type": "code",
   "execution_count": null,
   "id": "noticed-substitute",
   "metadata": {},
   "outputs": [],
   "source": []
  },
  {
   "cell_type": "code",
   "execution_count": null,
   "id": "applied-chair",
   "metadata": {},
   "outputs": [],
   "source": []
  }
 ],
 "metadata": {
  "kernelspec": {
   "display_name": "Python 3",
   "language": "python",
   "name": "python3"
  },
  "language_info": {
   "codemirror_mode": {
    "name": "ipython",
    "version": 3
   },
   "file_extension": ".py",
   "mimetype": "text/x-python",
   "name": "python",
   "nbconvert_exporter": "python",
   "pygments_lexer": "ipython3",
   "version": "3.9.2"
  }
 },
 "nbformat": 4,
 "nbformat_minor": 5
}
