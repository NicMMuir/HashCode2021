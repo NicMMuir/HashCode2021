{
 "cells": [
  {
   "cell_type": "code",
   "execution_count": 95,
   "id": "political-eight",
   "metadata": {},
   "outputs": [],
   "source": [
    "#import numpy as np"
   ]
  },
  {
   "cell_type": "code",
   "execution_count": 96,
   "id": "increasing-choir",
   "metadata": {},
   "outputs": [],
   "source": [
    "input_name = \"a\""
   ]
  },
  {
   "cell_type": "code",
   "execution_count": 97,
   "id": "buried-flood",
   "metadata": {},
   "outputs": [
    {
     "name": "stdout",
     "output_type": "stream",
     "text": [
      "Duration 6 Num Intersections 4 Num Streets 5 Num Cars 2 Bonus 1000\n"
     ]
    }
   ],
   "source": [
    "f = open(input_name + \".txt\", \"r\")\n",
    "\n",
    "line1 = f.readline()\n",
    "list1 = line1.split()\n",
    "D = list1[0] # duration \n",
    "I = list1[1] #num intersections\n",
    "S = list1[2] # num streets\n",
    "V = list1[3] # num cars\n",
    "F = list1[4] # bonus points before time D\n",
    "\n",
    "print(f\"Duration {D} Num Intersections {I} Num Streets {S} Num Cars {V} Bonus {F}\")\n",
    "\n",
    "class Car:\n",
    "    def __init__(self, P, route):\n",
    "        self.P = P\n",
    "        self.route = route\n",
    "        \n",
    "    def __str__(self):\n",
    "        return f\"P: {self.P} route: {self.route}\"\n",
    "    \n",
    "class Street:\n",
    "    def __init__(self, B, E, name, L):\n",
    "        self.B = B\n",
    "        self.E = E\n",
    "        self.name = name\n",
    "        self.L = L\n",
    "        \n",
    "    def __str__(self):\n",
    "        return f\"B: {self.B} E: {self.E} name: {self.name}, L: {self.L}\"\n",
    "   \n",
    "all_streets = []\n",
    "all_cars = []\n",
    "\n",
    "\n",
    "for i in range(0,int(S)):\n",
    "    street = f.readline().split()\n",
    "    newStreet = Street(street[0],street[1],street[2],street[3])\n",
    "    #print(newStreet)\n",
    "    all_streets.append(newStreet)\n",
    "    \n",
    "for i in range(0,int(V)):\n",
    "    cars = f.readline().split()\n",
    "    route = []\n",
    "    for j in range(int(cars[0])):\n",
    "        route.append(cars[j+1])\n",
    "    car = Car(cars[0], route)\n",
    "   #print(car)\n",
    "    all_cars.append(car)\n",
    "\n",
    "f.close()"
   ]
  },
  {
   "cell_type": "code",
   "execution_count": 98,
   "id": "palestinian-registration",
   "metadata": {},
   "outputs": [],
   "source": [
    "# simple algorithm, 1 second for each intersection"
   ]
  },
  {
   "cell_type": "code",
   "execution_count": 99,
   "id": "practical-grounds",
   "metadata": {},
   "outputs": [],
   "source": [
    "f = open(input_name + \".out\", \"w\")\n",
    "\n",
    "f.write(I + \"\\n\")\n",
    "intersections = []\n",
    "for i in range(int(I)): # for each intersection\n",
    "    incoming = []\n",
    "    for street in all_streets: # for each streeet\n",
    "        if i == int(street.E):\n",
    "            incoming.append(street.name)\n",
    "    intersections.append(incoming)\n",
    "        \n",
    "    \n",
    "\n",
    "#print(intersections)\n",
    "__id = 0\n",
    "for intersect in intersections:\n",
    "    f.write(str(__id))\n",
    "    __id += 1\n",
    "    f.write(\"\\n\")\n",
    "    f.write(str(len(intersect)) + \"\\n\")\n",
    "    for inc in intersect:\n",
    "        f.write(inc + \" 1\\n\")\n",
    "    \n",
    "f.close()"
   ]
  },
  {
   "cell_type": "code",
   "execution_count": 100,
   "id": "sixth-double",
   "metadata": {},
   "outputs": [],
   "source": [
    "# open file for viewing"
   ]
  },
  {
   "cell_type": "code",
   "execution_count": 101,
   "id": "separate-amplifier",
   "metadata": {},
   "outputs": [
    {
     "name": "stdout",
     "output_type": "stream",
     "text": [
      "4\n",
      "\n",
      "0\n",
      "\n",
      "1\n",
      "\n",
      "rue-de-londres 1\n",
      "\n",
      "1\n",
      "\n",
      "2\n",
      "\n",
      "rue-d-amsterdam 1\n",
      "\n",
      "rue-d-athenes 1\n",
      "\n",
      "2\n",
      "\n",
      "1\n",
      "\n",
      "rue-de-moscou 1\n",
      "\n",
      "3\n",
      "\n",
      "1\n",
      "\n",
      "rue-de-rome 1\n",
      "\n"
     ]
    }
   ],
   "source": [
    "f = open(input_name+\".out\", \"r\")\n",
    "\n",
    "for s in f:\n",
    "    print(s)\n",
    "    \n",
    "f.close()"
   ]
  },
  {
   "cell_type": "code",
   "execution_count": null,
   "id": "dense-bracelet",
   "metadata": {},
   "outputs": [],
   "source": []
  },
  {
   "cell_type": "code",
   "execution_count": null,
   "id": "sacred-eclipse",
   "metadata": {},
   "outputs": [],
   "source": []
  }
 ],
 "metadata": {
  "kernelspec": {
   "display_name": "Python 3",
   "language": "python",
   "name": "python3"
  },
  "language_info": {
   "codemirror_mode": {
    "name": "ipython",
    "version": 3
   },
   "file_extension": ".py",
   "mimetype": "text/x-python",
   "name": "python",
   "nbconvert_exporter": "python",
   "pygments_lexer": "ipython3",
   "version": "3.9.2"
  }
 },
 "nbformat": 4,
 "nbformat_minor": 5
}
