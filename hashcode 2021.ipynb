{
 "cells": [
  {
   "cell_type": "code",
   "execution_count": 2,
   "metadata": {},
   "outputs": [],
   "source": [
    "import numpy as np"
   ]
  },
  {
   "cell_type": "code",
   "execution_count": null,
   "metadata": {},
   "outputs": [],
   "source": [
    "f = open(\"a.txt\", \"r\")\n",
    "\n",
    "line1 = f.readline()\n",
    "list1 = line1.split()\n",
    "D = list1[0] # duration \n",
    "I = list1[1] #num intersections\n",
    "S = list1[2] # num streets\n",
    "V = list1[3] # num cars\n",
    "F = list1[4] # bonus points before time D\n",
    "\n",
    "for i in range(1,int(S)):\n",
    "    streets.append(f.readline().split())\n",
    "    print(street)\n",
    "    \n",
    "for i in range(0,int(V)):\n",
    "    cars.af.readline().split()\n",
    "    print(car)"
   ]
  },
  {
   "cell_type": "code",
   "execution_count": null,
   "metadata": {},
   "outputs": [],
   "source": []
  }
 ],
 "metadata": {
  "kernelspec": {
   "display_name": "Python 3",
   "language": "python",
   "name": "python3"
  },
  "language_info": {
   "codemirror_mode": {
    "name": "ipython",
    "version": 3
   },
   "file_extension": ".py",
   "mimetype": "text/x-python",
   "name": "python",
   "nbconvert_exporter": "python",
   "pygments_lexer": "ipython3",
   "version": "3.7.4"
  }
 },
 "nbformat": 4,
 "nbformat_minor": 5
}
