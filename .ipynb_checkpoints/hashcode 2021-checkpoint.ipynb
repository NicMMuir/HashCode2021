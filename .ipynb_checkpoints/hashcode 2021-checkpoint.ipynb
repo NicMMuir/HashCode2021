{
 "cells": [
  {
   "cell_type": "code",
   "execution_count": 72,
   "id": "political-eight",
   "metadata": {},
   "outputs": [],
   "source": [
    "#import numpy as np"
   ]
  },
  {
   "cell_type": "code",
   "execution_count": 73,
   "id": "collectible-moderator",
   "metadata": {},
   "outputs": [],
   "source": [
    "input_name = \"f\""
   ]
  },
  {
   "cell_type": "code",
   "execution_count": 74,
   "id": "buried-flood",
   "metadata": {},
   "outputs": [
    {
     "name": "stdout",
     "output_type": "stream",
     "text": [
      "Duration 1992 Num Intersections 1662 Num Streets 10000 Num Cars 1000 Bonus 500\n"
     ]
    }
   ],
   "source": [
    "f = open(input_name + \".txt\", \"r\")\n",
    "\n",
    "line1 = f.readline()\n",
    "list1 = line1.split()\n",
    "D = list1[0] # duration \n",
    "I = list1[1] #num intersections\n",
    "S = list1[2] # num streets\n",
    "V = list1[3] # num cars\n",
    "F = list1[4] # bonus points before time D\n",
    "\n",
    "print(f\"Duration {D} Num Intersections {I} Num Streets {S} Num Cars {V} Bonus {F}\")\n",
    "\n",
    "class Car:\n",
    "    def __init__(self, P, route):\n",
    "        self.P = P\n",
    "        self.route = route\n",
    "        \n",
    "    def __str__(self):\n",
    "        return f\"P: {self.P} route: {self.route}\"\n",
    "    \n",
    "class Street:\n",
    "    def __init__(self, B, E, name, L):\n",
    "        self.B = B\n",
    "        self.E = E\n",
    "        self.name = name\n",
    "        self.L = L\n",
    "        \n",
    "    def __str__(self):\n",
    "        return f\"B: {self.B} E: {self.E} name: {self.name}, L: {self.L}\"\n",
    "   \n",
    "all_streets = []\n",
    "all_cars = []\n",
    "\n",
    "\n",
    "for i in range(0,int(S)):\n",
    "    street = f.readline().split()\n",
    "    newStreet = Street(street[0],street[1],street[2],street[3])\n",
    "    #print(newStreet)\n",
    "    all_streets.append(newStreet)\n",
    "    \n",
    "for i in range(0,int(V)):\n",
    "    cars = f.readline().split()\n",
    "    route = []\n",
    "    for j in range(int(cars[0])):\n",
    "        route.append(cars[j+1])\n",
    "    car = Car(cars[0], route)\n",
    "   #print(car)\n",
    "    all_cars.append(car)\n",
    "\n",
    "f.close()"
   ]
  },
  {
   "cell_type": "code",
   "execution_count": 75,
   "id": "palestinian-registration",
   "metadata": {},
   "outputs": [],
   "source": [
    "# simple algorithm, 1 second for each intersection"
   ]
  },
  {
   "cell_type": "code",
   "execution_count": 76,
   "id": "tested-gospel",
   "metadata": {},
   "outputs": [],
   "source": [
    "f = open(input_name + \".out\", \"w\")\n",
    "\n",
    "f.write(I + \"\\n\")\n",
    "intersections = []\n",
    "for i in range(int(I)): # for each intersection\n",
    "    incoming = []\n",
    "    for street in all_streets: # for each streeet\n",
    "        if i == int(street.E):\n",
    "            incoming.append(street.name)\n",
    "    intersections.append(incoming)\n",
    "        \n",
    "    \n",
    "\n",
    "#print(intersections)\n",
    "__id = 0\n",
    "for intersect in intersections:\n",
    "    f.write(str(__id))\n",
    "    __id += 1\n",
    "    f.write(\"\\n\")\n",
    "    f.write(str(len(intersect)) + \"\\n\")\n",
    "    for inc in intersect:\n",
    "        f.write(inc + \" 1\\n\")\n",
    "    \n",
    "f.close()"
   ]
  },
  {
   "cell_type": "code",
   "execution_count": 77,
   "id": "agricultural-gregory",
   "metadata": {},
   "outputs": [],
   "source": [
    "# open file for viewing"
   ]
  },
  {
   "cell_type": "code",
   "execution_count": 78,
   "id": "union-deviation",
   "metadata": {},
   "outputs": [],
   "source": [
    "#f = open(input_name+\".out\", \"r\")\n",
    "\n",
    "#for s in f:\n",
    "    #print(s)\n",
    "    \n",
    "#f.close()"
   ]
  },
  {
   "cell_type": "code",
   "execution_count": null,
   "id": "actual-zimbabwe",
   "metadata": {},
   "outputs": [],
   "source": []
  }
 ],
 "metadata": {
  "kernelspec": {
   "display_name": "Python 3",
   "language": "python",
   "name": "python3"
  },
  "language_info": {
   "codemirror_mode": {
    "name": "ipython",
    "version": 3
   },
   "file_extension": ".py",
   "mimetype": "text/x-python",
   "name": "python",
   "nbconvert_exporter": "python",
   "pygments_lexer": "ipython3",
   "version": "3.9.2"
  }
 },
 "nbformat": 4,
 "nbformat_minor": 5
}
