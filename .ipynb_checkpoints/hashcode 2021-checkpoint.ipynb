{
 "cells": [
  {
   "cell_type": "code",
   "execution_count": 2,
   "id": "italic-spiritual",
   "metadata": {},
   "outputs": [
    {
     "name": "stdout",
     "output_type": "stream",
     "text": [
      "['2', '0', 'rue-de-londres', '1']\n",
      "['0', '1', 'rue-d-amsterdam', '1']\n",
      "['3', '1', 'rue-d-athenes', '1']\n",
      "['2', '3', 'rue-de-rome', '2']\n",
      "['1', '2', 'rue-de-moscou', '3']\n",
      "['4', 'rue-de-londres', 'rue-d-amsterdam', 'rue-de-moscou', 'rue-de-rome']\n"
     ]
    }
   ],
   "source": [
    "f = open(\"a.txt\", \"r\")\n",
    "\n",
    "line1 = f.readline()\n",
    "list1 = line1.split()\n",
    "D = list1[0] # duration \n",
    "I = list1[1] #num intersections\n",
    "S = list1[2] # num streets\n",
    "V = list1[3] # num cars\n",
    "F = list1[4] # bonus points before time D\n",
    "\n",
    "for i in range(1,int(S)):\n",
    "    street = f.readline().split()\n",
    "    print(street)\n",
    "    \n",
    "for i in range(0,int(V)):\n",
    "    car = f.readline().split()\n",
    "    print(car)"
   ]
  },
  {
   "cell_type": "code",
   "execution_count": null,
   "id": "measured-lotus",
   "metadata": {},
   "outputs": [],
   "source": []
  }
 ],
 "metadata": {
  "kernelspec": {
   "display_name": "Python 3",
   "language": "python",
   "name": "python3"
  },
  "language_info": {
   "codemirror_mode": {
    "name": "ipython",
    "version": 3
   },
   "file_extension": ".py",
   "mimetype": "text/x-python",
   "name": "python",
   "nbconvert_exporter": "python",
   "pygments_lexer": "ipython3",
   "version": "3.9.2"
  }
 },
 "nbformat": 4,
 "nbformat_minor": 5
}
