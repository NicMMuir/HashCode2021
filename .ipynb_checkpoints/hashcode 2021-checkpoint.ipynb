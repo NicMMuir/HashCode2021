{
 "cells": [
  {
   "cell_type": "code",
   "execution_count": 2,
   "id": "political-eight",
   "metadata": {},
   "outputs": [],
   "source": [
    "import numpy as np"
   ]
  },
  {
   "cell_type": "code",
   "execution_count": 9,
   "id": "buried-flood",
   "metadata": {},
   "outputs": [
    {
     "name": "stdout",
     "output_type": "stream",
     "text": [
      "D 6 I 4 S 5 V 2 F 1000\n",
      "B: 2 E: 0 name: rue-de-londres, L: 1\n",
      "B: 0 E: 1 name: rue-d-amsterdam, L: 1\n",
      "B: 3 E: 1 name: rue-d-athenes, L: 1\n",
      "B: 2 E: 3 name: rue-de-rome, L: 2\n",
      "B: 1 E: 2 name: rue-de-moscou, L: 3\n",
      "P: 4 route: ['rue-de-londres', 'rue-d-amsterdam', 'rue-de-moscou', 'rue-de-rome']\n",
      "P: 3 route: ['rue-d-athenes', 'rue-de-moscou', 'rue-de-londres']\n"
     ]
    }
   ],
   "source": [
    "f = open(\"a.txt\", \"r\")\n",
    "\n",
    "line1 = f.readline()\n",
    "list1 = line1.split()\n",
    "D = list1[0] # duration \n",
    "I = list1[1] #num intersections\n",
    "S = list1[2] # num streets\n",
    "V = list1[3] # num cars\n",
    "F = list1[4] # bonus points before time D\n",
    "\n",
    "print(f\"D {D} I {I} S {S} V {V} F {F}\")\n",
    "\n",
    "class Car:\n",
    "    def __init__(self, P, route):\n",
    "        self.P = P\n",
    "        self.route = route\n",
    "        \n",
    "    def __str__(self):\n",
    "        return f\"P: {self.P} route: {self.route}\"\n",
    "    \n",
    "class Street:\n",
    "    def __init__(self, B, E, name, L):\n",
    "        self.B = B\n",
    "        self.E = E\n",
    "        self.name = name\n",
    "        self.L = L\n",
    "        \n",
    "    def __str__(self):\n",
    "        return f\"B: {self.B} E: {self.E} name: {self.name}, L: {self.L}\"\n",
    "   \n",
    "all_streets = []\n",
    "all_cars = []\n",
    "\n",
    "\n",
    "for i in range(0,int(S)):\n",
    "    street = f.readline().split()\n",
    "    newStreet = Street(street[0],street[1],street[2],street[3])\n",
    "    print(newStreet)\n",
    "    \n",
    "for i in range(0,int(V)):\n",
    "    cars = f.readline().split()\n",
    "    route = []\n",
    "    for j in range(int(cars[0])):\n",
    "        route.append(cars[j+1])\n",
    "    car = Car(cars[0], route)\n",
    "    print(car)"
   ]
  },
  {
   "cell_type": "code",
   "execution_count": null,
   "id": "palestinian-registration",
   "metadata": {},
   "outputs": [],
   "source": []
  }
 ],
 "metadata": {
  "kernelspec": {
   "display_name": "Python 3",
   "language": "python",
   "name": "python3"
  },
  "language_info": {
   "codemirror_mode": {
    "name": "ipython",
    "version": 3
   },
   "file_extension": ".py",
   "mimetype": "text/x-python",
   "name": "python",
   "nbconvert_exporter": "python",
   "pygments_lexer": "ipython3",
   "version": "3.9.2"
  }
 },
 "nbformat": 4,
 "nbformat_minor": 5
}
